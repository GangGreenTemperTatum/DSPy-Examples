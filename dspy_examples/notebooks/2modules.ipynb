{
 "cells": [
  {
   "cell_type": "markdown",
   "metadata": {},
   "source": [
    "# dspy methodology 101\n",
    "\n",
    "1. programming\n",
    "   1. LMs (tasks)\n",
    "   2. signatures (i/o - eg `\"context: list[str], question: str -> answer: str\"`) - compiling leads to better prompts than humans write\n",
    "      1. tasks, instruct the model what it needs to do\n",
    "      2. underlying dSPY compiler will do the optimization, rather than brittle prompts\n",
    "   3. modules (ie `dspy.Predict`, `dspy.ChainOfThought`)\n",
    "      1. prompting techniques\n",
    "2. evaluation\n",
    "3. optimization"
   ]
  },
  {
   "cell_type": "markdown",
   "metadata": {},
   "source": [
    "## TOC:\n",
    "* [intro](#dspy-methodology-101)\n",
    "* [LMs](#set-a-generator-lm)\n",
    "* [modules](#testing-with-dspy-modules)"
   ]
  },
  {
   "cell_type": "markdown",
   "metadata": {},
   "source": [
    "## set a generator LM\n",
    "\n",
    "<a class=\"anchor\" id=\"LM\"></a>"
   ]
  },
  {
   "cell_type": "code",
   "execution_count": 1,
   "metadata": {},
   "outputs": [
    {
     "name": "stdout",
     "output_type": "stream",
     "text": [
      "OPENAI API Key found!\n",
      "ANTHROPIC API Key found!\n"
     ]
    }
   ],
   "source": [
    "import dspy\n",
    "import os\n",
    "\n",
    "OPENAI_API_KEY = os.getenv(\"OPENAI_API_KEY\")\n",
    "ANTHROPIC_API_KEY = os.getenv(\"ANTHROPIC_API_KEY\")\n",
    "TOGETHER_API_KEY = os.getenv(\"TOGETHER_API_KEY\")\n",
    "\n",
    "if OPENAI_API_KEY:\n",
    "    print(\"OPENAI API Key found!\")\n",
    "else:\n",
    "    print(\"OPENAI API Key not found!\")\n",
    "if ANTHROPIC_API_KEY:\n",
    "    print(\"ANTHROPIC API Key found!\")\n",
    "else:\n",
    "    print(\"ANTHROPIC API Key not found!\")\n",
    "\n",
    "lm = dspy.LM('openai/gpt-4o-mini', temperature=0.9, max_tokens=3000, stop=None, cache=False, api_key=OPENAI_API_KEY)\n",
    "dspy.configure(lm=lm)"
   ]
  },
  {
   "cell_type": "markdown",
   "metadata": {},
   "source": [
    "## testing with dspy modules\n",
    "\n",
    "Each built-in module abstracts a prompting technique (like chain of thought or ReAct). Crucially, they are generalized to handle any signature.\n",
    "\n",
    "Modules help you describe AI behavior as code, not strings.\n",
    "<a class=\"anchor\" id=\"MODULES\"></a>\n",
    "\n",
    "- `dspy.Predict`: Basic predictor. Does not modify the signature. Handles the key - `forms of learning (i.e., storing the instructions and demonstrations and - `updates to the LM).\n",
    "- `dspy.ChainOfThought`: Teaches the LM to think step-by-step before committing to - `the signature's response.\n",
    "- `dspy.ProgramOfThought`: Teaches the LM to output code, whose execution results - `will dictate the response.\n",
    "- `dspy.ReAct`: An agent that can use tools to implement the given signature.\n",
    "- `dspy.MultiChainComparison`: Can compare multiple outputs from ChainOfThought to produce a final prediction."
   ]
  },
  {
   "cell_type": "code",
   "execution_count": 2,
   "metadata": {},
   "outputs": [
    {
     "name": "stdout",
     "output_type": "stream",
     "text": [
      "5766.904\n"
     ]
    },
    {
     "data": {
      "text/plain": [
       "dict_keys(['prompt', 'messages', 'kwargs', 'response', 'outputs', 'usage', 'cost', 'timestamp', 'uuid', 'model', 'response_model', 'model_type'])"
      ]
     },
     "execution_count": 2,
     "metadata": {},
     "output_type": "execute_result"
    }
   ],
   "source": [
    "def evaluate_math(expression: str):\n",
    "    return dspy.PythonInterpreter({}).execute(expression)\n",
    "\n",
    "def search_wikipedia(query: str):\n",
    "    results = dspy.ColBERTv2(url='http://20.102.90.50:2017/wiki17_abstracts')(query, k=3)\n",
    "    return [x['text'] for x in results]\n",
    "\n",
    "react = dspy.ReAct(\"question -> answer: float\", tools=[evaluate_math, search_wikipedia])\n",
    "\n",
    "pred = react(question=\"What is 9362158 divided by the year of birth of David Gregory of Kinnairdy castle?\")\n",
    "print(pred.answer)\n",
    "\n",
    "len(lm.history)\n",
    "lm.history[0].keys()"
   ]
  },
  {
   "cell_type": "code",
   "execution_count": null,
   "metadata": {},
   "outputs": [
    {
     "name": "stdout",
     "output_type": "stream",
     "text": [
      "Result: Prediction(\n",
      "    reasoning='The sum of two dice can range from 2 to 12. To get a sum of 2, only one combination is possible: (1, 1). There are a total of 36 possible outcomes when two dice are tossed (6 outcomes for the first die and 6 outcomes for the second die). Therefore, the probability of getting a sum of 2 is 1/36.',\n",
      "    answer=0.027777777777777776\n",
      ")\n",
      "\n",
      "History length: 5\n",
      "claude-3-opus Result: Prediction(\n",
      "    reasoning='When tossing two dice, each die can show a face with 1, 2, 3, 4, 5, or 6 dots, with equal probability. So there are 6 possible outcomes for each die.\\n\\nThe total number of possible outcomes when tossing two dice is 6 × 6 = 36, and each of these outcomes is equally likely.\\n\\nFor the sum to equal 2, both dice must show a 1. This is the only way to get a sum of 2.\\nSo there is only 1 favorable outcome: (1,1).\\n\\nThe probability is therefore:\\nNumber of favorable outcomes / Total number of possible outcomes = 1/36 ≈ 0.0277777...',\n",
      "    answer=0.02777777777777778\n",
      ")\n",
      "\n",
      "History length: 5\n"
     ]
    },
    {
     "data": {
      "text/plain": [
       "dict_keys(['prompt', 'messages', 'kwargs', 'response', 'outputs', 'usage', 'cost', 'timestamp', 'uuid', 'model', 'response_model', 'model_type'])"
      ]
     },
     "execution_count": 3,
     "metadata": {},
     "output_type": "execute_result"
    }
   ],
   "source": [
    "with dspy.context(lm=dspy.LM('openai/gpt-3.5-turbo')):\n",
    "    math = dspy.ChainOfThought(\"question -> answer: float\")\n",
    "    result = math(question=\"Two dice are tossed. What is the probability that the sum equals two?\")\n",
    "    print(\"Result:\", result)\n",
    "\n",
    "print(f\"\\nHistory length: {len(lm.history)}\")\n",
    "lm.history[0].keys()\n",
    "\n",
    "with dspy.context(lm=dspy.LM('anthropic/claude-3-7-sonnet-20250219', temperature=0.9, max_tokens=3000, stop=None, cache=False, api_key=ANTHROPIC_API_KEY)):\n",
    "    math = dspy.ChainOfThought(\"question -> answer: float\")\n",
    "    result = math(question=\"Two dice are tossed. What is the probability that the sum equals two?\")\n",
    "    print('claude-3-opus Result:', result) # where result.answer would display the answer but no reasoning which comes from the dspy.ChainOfThought module\n",
    "\n",
    "print(f\"\\nHistory length: {len(lm.history)}\")\n",
    "lm.history[-1].keys()"
   ]
  },
  {
   "cell_type": "code",
   "execution_count": 4,
   "metadata": {},
   "outputs": [
    {
     "data": {
      "text/plain": [
       "Prediction(\n",
       "    sentiment='positive',\n",
       "    confidence=0.85\n",
       ")"
      ]
     },
     "execution_count": 4,
     "metadata": {},
     "output_type": "execute_result"
    }
   ],
   "source": [
    "from typing import Literal\n",
    "\n",
    "class Classify(dspy.Signature):\n",
    "    \"\"\"Classify sentiment of a given sentence.\"\"\"\n",
    "\n",
    "    sentence: str = dspy.InputField()\n",
    "    sentiment: Literal['positive', 'negative', 'neutral'] = dspy.OutputField()\n",
    "    confidence: float = dspy.OutputField()\n",
    "\n",
    "classify = dspy.Predict(Classify)\n",
    "classify(sentence=\"This book was super fun to read, though not the last chapter.\")"
   ]
  },
  {
   "cell_type": "code",
   "execution_count": 5,
   "metadata": {},
   "outputs": [
    {
     "data": {
      "text/plain": [
       "Prediction(\n",
       "    reasoning='The context provides information about David Gregory, mentioning that he inherited Kinnairdy Castle in 1664. Therefore, the name of the castle he inherited is Kinnairdy Castle.',\n",
       "    response='The name of the castle that David Gregory inherited is Kinnairdy Castle.'\n",
       ")"
      ]
     },
     "execution_count": 5,
     "metadata": {},
     "output_type": "execute_result"
    }
   ],
   "source": [
    "def search_wikipedia(query: str) -> list[str]:\n",
    "    results = dspy.ColBERTv2(url='http://20.102.90.50:2017/wiki17_abstracts')(query, k=3)\n",
    "    return [x['text'] for x in results]\n",
    "\n",
    "rag = dspy.ChainOfThought('context, question -> response')\n",
    "\n",
    "question = \"What's the name of the castle that David Gregory inherited?\"\n",
    "rag(context=search_wikipedia(question), question=question)"
   ]
  },
  {
   "cell_type": "code",
   "execution_count": 6,
   "metadata": {},
   "outputs": [
    {
     "name": "stdout",
     "output_type": "stream",
     "text": [
      "Apple Inc. Announces iPhone 14\n",
      "['Introduction', 'CEO Announcement', 'Features Overview']\n",
      "[{'name': 'Apple Inc.', 'type': 'Organization'}, {'name': 'iPhone 14', 'type': 'Product'}, {'name': 'Tim Cook', 'type': 'Person'}]\n"
     ]
    }
   ],
   "source": [
    "class ExtractInfo(dspy.Signature):\n",
    "    \"\"\"Extract structured information from text.\"\"\"\n",
    "\n",
    "    text: str = dspy.InputField()\n",
    "    title: str = dspy.OutputField()\n",
    "    headings: list[str] = dspy.OutputField()\n",
    "    entities: list[dict[str, str]] = dspy.OutputField(desc=\"a list of entities and their metadata\")\n",
    "\n",
    "module = dspy.Predict(ExtractInfo)\n",
    "\n",
    "text = \"Apple Inc. announced its latest iPhone 14 today.\" \\\n",
    "    \"The CEO, Tim Cook, highlighted its new features in a press release.\"\n",
    "response = module(text=text)\n",
    "\n",
    "print(response.title)\n",
    "print(response.headings)\n",
    "print(response.entities)"
   ]
  },
  {
   "cell_type": "code",
   "execution_count": 8,
   "metadata": {},
   "outputs": [
    {
     "name": "stdout",
     "output_type": "stream",
     "text": [
      "# Overview of the 2002 FIFA World Cup\n",
      "\n",
      "## Tournament Structure\n",
      "\n",
      "### Host Nations\n",
      "The 2002 FIFA World Cup was uniquely co-hosted by two nations, South Korea and Japan. This was the first time in history that the World Cup was held in Asia and also the first time it was jointly hosted by two different countries. This collaborative effort showcased both nations' capabilities and commitment to putting on a world-class tournament.\n",
      "\n",
      "### Participating Teams\n",
      "A total of 32 teams competed in the 2002 World Cup, representing various confederations from around the globe. This marked an expansion from the previous tournament's 24-team format, allowing for more countries to participate and showcase their talent on the world stage. The teams were divided into eight groups of four, with the top two from each group advancing to the knockout stage.\n",
      "\n",
      "### Match Format\n",
      "The tournament utilized a group-stage format followed by knockout rounds. Each team played the others in their group once, earning points for wins and draws. The top two teams from each group progressed to the Round of 16, leading to a single-elimination format where teams competed in matches until the final, culminating in the crowning of the World Cup champion. This structure not only heightened the competition's intensity but also ensured that every match had significant implications for the teams involved.\n",
      "\n",
      "## Key Matches\n",
      "\n",
      "### Opening Match\n",
      "The 2002 FIFA World Cup kicked off on June 31, 2002, with a highly anticipated opening match between Brazil and Turkey at the Seoul World Cup Stadium. Brazil, the five-time World Cup champions, showcased their prowess with an impressive 2-1 victory, setting the tone for the tournament ahead. Goals from Ronaldo, who was experiencing a remarkable comeback from injury, highlighted Brazil's offensive strength and intention to reclaim their title.\n",
      "\n",
      "### Notable Upsets\n",
      "The tournament was filled with surprising outcomes that captivated fans around the globe. One of the most shocking results came during the group stage when South Korea, the co-host nation, triumphed over the heavily favored Italy in the Round of 16. The match ended in a dramatic 2-1 victory for South Korea, following a controversial golden goal that sealed their passage to the quarter-finals. This upset not only electrified local fans but also marked a historic moment for Asian football on the world stage.\n",
      "\n",
      "### Final Match\n",
      "The climax of the tournament arrived on June 30, 2002, with the final match held at the International Stadium Yokohama. Brazil faced Germany in a battle of football giants, both seeking to solidify their legacies in World Cup history. Brazil emerged victorious with a 2-0 scoreline, thanks to two spectacular goals from Ronaldo, who solidified his status as the tournament's top scorer. This victory not only crowned Brazil as champions for the sixth time but also completed an extraordinary comeback story for Ronaldo, who had faced personal and professional challenges leading up to the tournament.\n",
      "\n",
      "## Standout Players\n",
      "\n",
      "### Top Scorers\n",
      "The 2002 FIFA World Cup featured several prolific goal scorers who left a lasting mark on the tournament. The Golden Boot winner was Ronaldo Nazário of Brazil, who netted an impressive eight goals, including two in the final against Germany. His performances were instrumental in Brazil securing its fifth World Cup title. Other notable scorers included Rivaldo and Miroslav Klose, who both contributed significantly to their teams’ efforts, showcasing their scoring prowess on the world's biggest stage.\n",
      "\n",
      "### Best Player Awards\n",
      "The tournament saw several players receive accolades for their outstanding performances. The FIFA World Cup Golden Ball for the best player was awarded to Ronaldo, recognizing not only his goal-scoring ability but also his overall influence on matches. Other nominees included Zinedine Zidane, who demonstrated extraordinary skill and leadership, and Roberto Carlos, whose dynamic play was pivotal for Brazil. These players exemplified excellence, and their contributions were crucial in shaping the World Cup narrative.\n",
      "\n",
      "### Rising Stars\n",
      "The 2002 World Cup also launched the careers of several rising stars who would go on to have illustrious football careers. Among them was Ronaldo's Brazilian teammate, Kaká, who showcased his talent and composure at a young age. Similarly, the South Korean player Park Ji-sung gained international recognition for his tireless work ethic and technical skills, which helped lead his team to an unexpected semi-final position. These players not only impressed during the tournament but also hinted at bright futures in the world of football.\n",
      "\n",
      "## Controversies\n",
      "\n",
      "### Disputed Referee Decisions\n",
      "The 2002 FIFA World Cup was infamous for its contentious referee decisions that altered the course of matches. One of the most notable instances occurred during the quarter-final match between South Korea and Italy, where two crucial decisions led to significant backlash. A questionable penalty awarded to South Korea and an instance of a disallowed goal for Italy sent shockwaves through the football community, leading to accusations of bias and misconduct in officiating.\n",
      "\n",
      "### Off-field Issues\n",
      "Beyond the pitch, the tournament faced its share of off-field controversies. Allegations of match-fixing and administrative misconduct emerged, with critics questioning the integrity of the tournament. The choice of South Korea and Japan as co-hosts also drew scrutiny, with some arguing that political motives influenced the decision. These factors contributed to a perception that the tournament was marred by issues beyond the games themselves.\n",
      "\n",
      "### Media Reactions\n",
      "The media's portrayal of the 2002 World Cup reflected the controversies that unfolded throughout the event. Coverage ranged from detailed analyses of referee decisions to discussions surrounding the implications of the hosts' surprising success. Many journalists expressed skepticism about the fairness of certain matches, while others lauded the tournament for its high level of competition. Ultimately, the media's response played a crucial role in shaping public perception, keeping the contentious narratives alive long after the final whistle.\n",
      "\n",
      "## Impact on Soccer\n",
      "\n",
      "### Cultural Significance\n",
      "The 2002 FIFA World Cup was notable for being the first World Cup held in Asia, symbolizing a shift in the global football narrative. It fostered a sense of pride and unity within South Korea and Japan, both of which showcased their heritage to a global audience. The tournament's atmosphere of camaraderie, as fans from diverse backgrounds gathered, created a unique cultural exchange that transcended borders. The vibrant celebrations, festivities, and enthusiasm surrounding the event highlighted soccer's role as a universal language, bringing together millions in celebration of sport.\n",
      "\n",
      "### Influence on Future Tournaments\n",
      "The success of the 2002 World Cup set a precedent for future tournaments in terms of global participation and viewership. This event demonstrated that hosting a World Cup could yield substantial economic benefits and boost tourism in countries outside the traditional soccer powerhouses. The format and organization of the tournament influenced FIFA's decisions in the years that followed, leading to an increasing emphasis on diverse locations and the importance of engaging local fans, thus shaping how future tournaments are structured and marketed.\n",
      "\n",
      "### Development of Asian Soccer\n",
      "The 2002 World Cup significantly impacted the development of soccer in Asia, inspiring a new generation of players and fans. The strong performances of the South Korean national team, which reached the semifinals, ignited interest in soccer throughout the continent. Investment in youth programs and domestic leagues surged in the years following the tournament, as nations realized the potential of soccer as both a sport and a means of fostering international relations. The legacy of the 2002 World Cup continues to resonate today, as Asian teams strive to elevate their status on the global stage.\n",
      "\n"
     ]
    }
   ],
   "source": [
    "class Outline(dspy.Signature):\n",
    "    \"\"\"Outline a thorough overview of a topic.\"\"\"\n",
    "\n",
    "    topic: str = dspy.InputField()\n",
    "    title: str = dspy.OutputField()\n",
    "    sections: list[str] = dspy.OutputField()\n",
    "    section_subheadings: dict[str, list[str]] = dspy.OutputField(desc=\"mapping from section headings to subheadings\")\n",
    "\n",
    "class DraftSection(dspy.Signature):\n",
    "    \"\"\"Draft a top-level section of an article.\"\"\"\n",
    "\n",
    "    topic: str = dspy.InputField()\n",
    "    section_heading: str = dspy.InputField()\n",
    "    section_subheadings: list[str] = dspy.InputField()\n",
    "    content: str = dspy.OutputField(desc=\"markdown-formatted section\")\n",
    "\n",
    "class DraftArticle(dspy.Module):\n",
    "    def __init__(self):\n",
    "        self.build_outline = dspy.ChainOfThought(Outline)\n",
    "        self.draft_section = dspy.ChainOfThought(DraftSection)\n",
    "\n",
    "    def forward(self, topic):\n",
    "        outline = self.build_outline(topic=topic)\n",
    "        sections = []\n",
    "        for heading, subheadings in outline.section_subheadings.items():\n",
    "            section, subheadings = f\"## {heading}\", [f\"### {subheading}\" for subheading in subheadings]\n",
    "            section = self.draft_section(topic=outline.title, section_heading=section, section_subheadings=subheadings)\n",
    "            sections.append(section.content)\n",
    "        return dspy.Prediction(title=outline.title, sections=sections)\n",
    "\n",
    "draft_article = DraftArticle()\n",
    "article = draft_article(topic=\"World Cup 2002\")\n",
    "\n",
    "print(f\"# {article.title}\\n\")\n",
    "for section in article.sections:\n",
    "    print(f\"{section}\\n\")"
   ]
  },
  {
   "cell_type": "markdown",
   "metadata": {},
   "source": [
    "--> compile these modules into optimized prompts and finetunes"
   ]
  }
 ],
 "metadata": {
  "kernelspec": {
   "display_name": ".venv",
   "language": "python",
   "name": "python3"
  },
  "language_info": {
   "codemirror_mode": {
    "name": "ipython",
    "version": 3
   },
   "file_extension": ".py",
   "mimetype": "text/x-python",
   "name": "python",
   "nbconvert_exporter": "python",
   "pygments_lexer": "ipython3",
   "version": "3.12.8"
  }
 },
 "nbformat": 4,
 "nbformat_minor": 2
}
