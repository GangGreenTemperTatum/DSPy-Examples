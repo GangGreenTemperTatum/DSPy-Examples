{
 "cells": [
  {
   "cell_type": "markdown",
   "metadata": {},
   "source": [
    "# dspy methodology 101\n",
    "\n",
    "1. programming\n",
    "   1. LMs (tasks)\n",
    "   2. signatures (i/o - eg `\"context: list[str], question: str -> answer: str\"`) - compiling leads to better prompts than humans write\n",
    "      1. tasks, instruct the model what it needs to do\n",
    "      2. underlying dSPY compiler will do the optimization, rather than brittle prompts\n",
    "   3. modules (ie `dspy.Predict`, `dspy.ChainOfThought`)\n",
    "      1. prompting techniques\n",
    "2. evaluation\n",
    "3. optimization"
   ]
  },
  {
   "cell_type": "markdown",
   "metadata": {},
   "source": [
    "## TOC:\n",
    "* [intro](#dspy-methodology-101)\n",
    "* [LMs](#set-a-generator-lm)\n",
    "* [evaluations 101](#dspy-evaluations)\n",
    "* [optimizations](#dspy-optimizers)"
   ]
  },
  {
   "cell_type": "markdown",
   "metadata": {},
   "source": [
    "## set a generator LM\n",
    "\n",
    "<a class=\"anchor\" id=\"LM\"></a>"
   ]
  },
  {
   "cell_type": "code",
   "execution_count": 3,
   "metadata": {},
   "outputs": [],
   "source": [
    "import dspy\n",
    "import os\n",
    "\n",
    "ANTHROPIC_API_KEY = os.getenv(\"ANTHROPIC_API_KEY\")\n",
    "TOGETHER_API_KEY = os.getenv(\"TOGETHER_API_KEY\")\n",
    "\n",
    "lm=dspy.LM('together_ai/deepseek-ai/DeepSeek-R1', temperature=0.1, max_tokens=2500, stop=None, cache=False, api_key=TOGETHER_API_KEY)\n",
    "dspy.configure(lm=lm)"
   ]
  },
  {
   "cell_type": "markdown",
   "metadata": {},
   "source": [
    "# DSPy optimizers"
   ]
  },
  {
   "cell_type": "markdown",
   "metadata": {},
   "source": [
    "**pre-requisite**: metrics, metrics, metrics<br>\n",
    "DSPy optimizers can be used tune the prompts or weights in your program.<br>\n",
    "some optimizers specify `trainset`, some need `trainset` **and** `valset`<br>\n",
    "recommended for prompting optimizers to produce 20% split for training and 80% for validation"
   ]
  },
  {
   "cell_type": "markdown",
   "metadata": {},
   "source": [
    "<p style=\"text-align:center\">A DSPy optimizer is an algorithm that can tune the parameters of a DSPy program (i.e., the prompts and/or the LM weights) to maximize the metrics you specify, like accuracy.</p>"
   ]
  },
  {
   "cell_type": "code",
   "execution_count": 4,
   "metadata": {},
   "outputs": [
    {
     "data": {
      "text/html": [
       "\n",
       "<div class=\"mermaid\">\n",
       "flowchart TD\n",
       "    A[Training Inputs] --> B[DSPy Program (Model Prediction)]\n",
       "    B --> C[Metric Function (Evaluate & Score)]\n",
       "    C --> D[Final Output (Model Evaluation Score)]\n",
       "</div>\n"
      ],
      "text/plain": [
       "<IPython.core.display.HTML object>"
      ]
     },
     "metadata": {},
     "output_type": "display_data"
    }
   ],
   "source": [
    "from IPython.display import display, HTML\n",
    "\n",
    "mermaid_code = \"\"\"\n",
    "<div class=\"mermaid\">\n",
    "flowchart TD\n",
    "    A[Training Inputs] --> B[DSPy Program (Model Prediction)]\n",
    "    B --> C[Metric Function (Evaluate & Score)]\n",
    "    C --> D[Final Output (Model Evaluation Score)]\n",
    "</div>\n",
    "\"\"\"\n",
    "\n",
    "display(HTML(mermaid_code))"
   ]
  },
  {
   "cell_type": "code",
   "execution_count": null,
   "metadata": {},
   "outputs": [],
   "source": [
    "# Example DSPy program function (model)\n",
    "def dspy_predict(inputs):\n",
    "    # Process inputs through the DSPy model (this could involve transformation, prediction, etc.)\n",
    "    predictions = model.process(inputs)\n",
    "    return predictions\n",
    "\n",
    "# Example evaluation metric function\n",
    "def evaluation_metric(predictions, actual_labels):\n",
    "    # Evaluate the predictions using some metric (e.g., accuracy, F1 score, etc.)\n",
    "    score = calculate_accuracy(predictions, actual_labels)\n",
    "    return score\n",
    "\n",
    "# Example training input (could be partial or incomplete)\n",
    "training_inputs = [\n",
    "    # Sample input data (without labels for unsupervised or semi-supervised learning)\n",
    "    {\"feature1\": 0.1, \"feature2\": 0.2},\n",
    "    {\"feature1\": 0.4, \"feature2\": 0.5},\n",
    "    # Additional incomplete data samples...\n",
    "]\n",
    "\n",
    "# Optional: Actual labels for supervised learning (if available)\n",
    "actual_labels = [0, 1]  # Example labels for training purposes (supervised case)\n",
    "\n",
    "# Main pseudo function:\n",
    "def train_and_evaluate(training_inputs, actual_labels):\n",
    "    # Step 1: Predict output using DSPy program (model)\n",
    "    predictions = dspy_predict(training_inputs)\n",
    "\n",
    "    # Step 2: Evaluate the model's predictions using a metric\n",
    "    score = evaluation_metric(predictions, actual_labels)\n",
    "\n",
    "    # Step 3: Return or log the score\n",
    "    print(f\"Model evaluation score: {score}\")\n",
    "    return score\n",
    "\n",
    "# Example execution:\n",
    "train_and_evaluate(training_inputs, actual_labels)"
   ]
  },
  {
   "cell_type": "markdown",
   "metadata": {},
   "source": [
    "### DSPy optimizers\n",
    "\n",
    "available [here](https://dspy.ai/learn/optimization/optimizers/)"
   ]
  },
  {
   "cell_type": "code",
   "execution_count": 7,
   "metadata": {},
   "outputs": [
    {
     "name": "stdout",
     "output_type": "stream",
     "text": [
      "DSPy Optimizers/Teleprompt Classes:\n",
      "----------------------------------------\n",
      "- AvatarOptimizer\n",
      "- BetterTogether\n",
      "- BootstrapFewShot\n",
      "- BootstrapFinetune\n",
      "- COPRO\n",
      "- Ensemble\n",
      "- KNNFewShot\n",
      "- MIPROv2\n",
      "- BootstrapFewShotWithRandomSearch\n",
      "- BootstrapFewShotWithOptuna\n",
      "- LabeledFewShot\n",
      "- InferRules\n"
     ]
    }
   ],
   "source": [
    "from dspy.teleprompt import *\n",
    "\n",
    "# Get all classes from dspy.teleprompt\n",
    "from dspy.teleprompt import __all__ as teleprompt_classes\n",
    "\n",
    "print(\"DSPy Optimizers/Teleprompt Classes:\")\n",
    "print(\"-\" * 40)\n",
    "for class_name in teleprompt_classes:\n",
    "    print(f\"- {class_name}\")"
   ]
  }
 ],
 "metadata": {
  "kernelspec": {
   "display_name": ".venv",
   "language": "python",
   "name": "python3"
  },
  "language_info": {
   "codemirror_mode": {
    "name": "ipython",
    "version": 3
   },
   "file_extension": ".py",
   "mimetype": "text/x-python",
   "name": "python",
   "nbconvert_exporter": "python",
   "pygments_lexer": "ipython3",
   "version": "3.12.8"
  }
 },
 "nbformat": 4,
 "nbformat_minor": 2
}
