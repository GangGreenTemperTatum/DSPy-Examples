{
 "cells": [
  {
   "cell_type": "markdown",
   "metadata": {},
   "source": [
    "# dspy methodology 101\n",
    "\n",
    "1. programming\n",
    "   1. LMs (tasks)\n",
    "   2. signatures (i/o) - compiling leads to better prompts than humans write\n",
    "   3. modules\n",
    "2. evaluation\n",
    "3. optimization"
   ]
  },
  {
   "cell_type": "markdown",
   "metadata": {},
   "source": [
    "## set a generator LM"
   ]
  },
  {
   "cell_type": "code",
   "execution_count": 1,
   "metadata": {},
   "outputs": [
    {
     "name": "stdout",
     "output_type": "stream",
     "text": [
      "OPENAI API Key found!\n",
      "ANTHROPIC API Key found!\n"
     ]
    }
   ],
   "source": [
    "import dspy\n",
    "import os\n",
    "\n",
    "OPENAI_API_KEY = os.getenv(\"OPENAI_API_KEY\")\n",
    "ANTHROPIC_API_KEY = os.getenv(\"ANTHROPIC_API_KEY\")\n",
    "\n",
    "if OPENAI_API_KEY:\n",
    "    print(\"OPENAI API Key found!\")\n",
    "else:\n",
    "    print(\"OPENAI API Key not found!\")\n",
    "if ANTHROPIC_API_KEY:\n",
    "    print(\"ANTHROPIC API Key found!\")\n",
    "else:\n",
    "    print(\"ANTHROPIC API Key not found!\")\n",
    "\n",
    "lm = dspy.LM('openai/gpt-4o-mini', temperature=0.9, max_tokens=3000, stop=None, cache=False, api_key=OPENAI_API_KEY)\n",
    "dspy.configure(lm=lm)"
   ]
  },
  {
   "cell_type": "markdown",
   "metadata": {},
   "source": [
    "## testing with dspy modules\n",
    "\n",
    "Modules help you describe AI behavior as code, not strings."
   ]
  },
  {
   "cell_type": "code",
   "execution_count": 2,
   "metadata": {},
   "outputs": [
    {
     "name": "stdout",
     "output_type": "stream",
     "text": [
      "5765.0\n"
     ]
    },
    {
     "data": {
      "text/plain": [
       "dict_keys(['prompt', 'messages', 'kwargs', 'response', 'outputs', 'usage', 'cost', 'timestamp', 'uuid', 'model', 'response_model', 'model_type'])"
      ]
     },
     "execution_count": 2,
     "metadata": {},
     "output_type": "execute_result"
    }
   ],
   "source": [
    "def evaluate_math(expression: str):\n",
    "    return dspy.PythonInterpreter({}).execute(expression)\n",
    "\n",
    "def search_wikipedia(query: str):\n",
    "    results = dspy.ColBERTv2(url='http://20.102.90.50:2017/wiki17_abstracts')(query, k=3)\n",
    "    return [x['text'] for x in results]\n",
    "\n",
    "react = dspy.ReAct(\"question -> answer: float\", tools=[evaluate_math, search_wikipedia])\n",
    "\n",
    "pred = react(question=\"What is 9362158 divided by the year of birth of David Gregory of Kinnairdy castle?\")\n",
    "print(pred.answer)\n",
    "\n",
    "len(lm.history)\n",
    "lm.history[0].keys()"
   ]
  },
  {
   "cell_type": "code",
   "execution_count": 10,
   "metadata": {},
   "outputs": [
    {
     "name": "stdout",
     "output_type": "stream",
     "text": [
      "Result: Prediction(\n",
      "    reasoning='The sum of two dice can range from 2 to 12. To get a sum of 2, only one combination is possible: (1, 1). There are a total of 36 possible outcomes when two dice are tossed (6 outcomes for the first die and 6 outcomes for the second die). Therefore, the probability of getting a sum of 2 is 1/36.',\n",
      "    answer=0.027777777777777776\n",
      ")\n",
      "\n",
      "History length: 4\n",
      "claude-3-opus Result: Prediction(\n",
      "    reasoning=\"When two dice are tossed, each die can show a face value from 1 to 6. To get a sum of 2, we need both dice to show 1.\\n\\nLet's denote the outcome of the first die as D1 and the second die as D2.\\nWe need D1 = 1 and D2 = 1.\\n\\nTotal number of possible outcomes when tossing two dice = 6 × 6 = 36 outcomes.\\nNumber of favorable outcomes (getting a sum of 2) = 1 outcome (when D1 = 1 and D2 = 1).\\n\\nTherefore, the probability of getting a sum of 2 is:\\nProbability = Number of favorable outcomes / Total number of possible outcomes\\nProbability = 1/36 ≈ 0.02777...\",\n",
      "    answer=0.02777777777777778\n",
      ")\n",
      "\n",
      "History length: 4\n"
     ]
    },
    {
     "data": {
      "text/plain": [
       "dict_keys(['prompt', 'messages', 'kwargs', 'response', 'outputs', 'usage', 'cost', 'timestamp', 'uuid', 'model', 'response_model', 'model_type'])"
      ]
     },
     "execution_count": 10,
     "metadata": {},
     "output_type": "execute_result"
    }
   ],
   "source": [
    "with dspy.context(lm=dspy.LM('openai/gpt-3.5-turbo')):\n",
    "    math = dspy.ChainOfThought(\"question -> answer: float\")\n",
    "    result = math(question=\"Two dice are tossed. What is the probability that the sum equals two?\")\n",
    "    print(\"Result:\", result)\n",
    "\n",
    "print(f\"\\nHistory length: {len(lm.history)}\")\n",
    "lm.history[0].keys()\n",
    "\n",
    "with dspy.context(lm=dspy.LM('anthropic/claude-3-7-sonnet-20250219', temperature=0.9, max_tokens=3000, stop=None, cache=False, api_key=ANTHROPIC_API_KEY)):\n",
    "    math = dspy.ChainOfThought(\"question -> answer: float\")\n",
    "    result = math(question=\"Two dice are tossed. What is the probability that the sum equals two?\")\n",
    "    print('claude-3-opus Result:', result) # where result.answer would display the answer but no reasoning\n",
    "\n",
    "print(f\"\\nHistory length: {len(lm.history)}\")\n",
    "lm.history[-1].keys()"
   ]
  },
  {
   "cell_type": "code",
   "execution_count": 15,
   "metadata": {},
   "outputs": [
    {
     "data": {
      "text/plain": [
       "Prediction(\n",
       "    sentiment='positive',\n",
       "    confidence=0.85\n",
       ")"
      ]
     },
     "execution_count": 15,
     "metadata": {},
     "output_type": "execute_result"
    }
   ],
   "source": [
    "from typing import Literal\n",
    "\n",
    "class Classify(dspy.Signature):\n",
    "    \"\"\"Classify sentiment of a given sentence.\"\"\"\n",
    "\n",
    "    sentence: str = dspy.InputField()\n",
    "    sentiment: Literal['positive', 'negative', 'neutral'] = dspy.OutputField()\n",
    "    confidence: float = dspy.OutputField()\n",
    "\n",
    "classify = dspy.Predict(Classify)\n",
    "classify(sentence=\"This book was super fun to read, though not the last chapter.\")"
   ]
  },
  {
   "cell_type": "code",
   "execution_count": 16,
   "metadata": {},
   "outputs": [
    {
     "data": {
      "text/plain": [
       "Prediction(\n",
       "    reasoning='The context states that David Gregory inherited Kinnairdy Castle in 1664. Therefore, the name of the castle he inherited is Kinnairdy Castle.',\n",
       "    response='The name of the castle that David Gregory inherited is Kinnairdy Castle.'\n",
       ")"
      ]
     },
     "execution_count": 16,
     "metadata": {},
     "output_type": "execute_result"
    }
   ],
   "source": [
    "def search_wikipedia(query: str) -> list[str]:\n",
    "    results = dspy.ColBERTv2(url='http://20.102.90.50:2017/wiki17_abstracts')(query, k=3)\n",
    "    return [x['text'] for x in results]\n",
    "\n",
    "rag = dspy.ChainOfThought('context, question -> response')\n",
    "\n",
    "question = \"What's the name of the castle that David Gregory inherited?\"\n",
    "rag(context=search_wikipedia(question), question=question)"
   ]
  },
  {
   "cell_type": "code",
   "execution_count": 7,
   "metadata": {},
   "outputs": [
    {
     "name": "stdout",
     "output_type": "stream",
     "text": [
      "Apple Inc. Announces iPhone 14\n",
      "['Announcement', 'CEO Statement', 'New Features']\n",
      "[{'name': 'Apple Inc.', 'type': 'Organization'}, {'name': 'iPhone 14', 'type': 'Product'}, {'name': 'Tim Cook', 'type': 'Person'}]\n"
     ]
    }
   ],
   "source": [
    "class ExtractInfo(dspy.Signature):\n",
    "    \"\"\"Extract structured information from text.\"\"\"\n",
    "\n",
    "    text: str = dspy.InputField()\n",
    "    title: str = dspy.OutputField()\n",
    "    headings: list[str] = dspy.OutputField()\n",
    "    entities: list[dict[str, str]] = dspy.OutputField(desc=\"a list of entities and their metadata\")\n",
    "\n",
    "module = dspy.Predict(ExtractInfo)\n",
    "\n",
    "text = \"Apple Inc. announced its latest iPhone 14 today.\" \\\n",
    "    \"The CEO, Tim Cook, highlighted its new features in a press release.\"\n",
    "response = module(text=text)\n",
    "\n",
    "print(response.title)\n",
    "print(response.headings)\n",
    "print(response.entities)"
   ]
  },
  {
   "cell_type": "code",
   "execution_count": 13,
   "metadata": {},
   "outputs": [
    {
     "name": "stdout",
     "output_type": "stream",
     "text": [
      "# Overview of the 2002 FIFA World Cup\n",
      "\n",
      "## Introduction\n",
      "\n",
      "### Background\n",
      "The 2002 FIFA World Cup marked the 17th edition of the tournament and was notable for being the first World Cup jointly hosted by two nations, South Korea and Japan. This landmark event took place from May 31 to June 30, 2002, and it was a pivotal moment in the world of football, showcasing the sport's ability to unite nations and fans across the globe. Following the end of the 1998 World Cup in France, which saw the host nation emerge victorious, the 2002 tournament was an opportunity for teams to vie for the prestigious trophy, further enhancing the global football narrative.\n",
      "\n",
      "### Host Nations\n",
      "South Korea and Japan worked collaboratively to prepare for the World Cup, a historic undertaking that required extensive infrastructure development and cultural cooperation. This collaboration was not only a logistical challenge but also a representation of how football can foster camaraderie between countries. The tournament featured matches in multiple cities across both nations, providing fans with a unique experience of the East Asian culture and hospitality. The efforts of both host nations laid the groundwork for a successful tournament that attracted millions of fans worldwide, both on the ground and through broadcast media.\n",
      "\n",
      "## Tournament Format\n",
      "\n",
      "The 2002 FIFA World Cup featured a comprehensive tournament format consisting of three primary stages: qualification, group stage, and knockout stage.\n",
      "\n",
      "### Qualification\n",
      "The qualification process for the 2002 FIFA World Cup involved teams from six continental confederations competing for a place in the tournament. In total, 171 teams entered the qualification rounds, with only 32 spots available in the final tournament. Each confederation had a designated number of slots, and the matches were held over a period of two years leading up to the World Cup, culminating in an intense competition that saw many teams battle for their chance to participate on the world stage.\n",
      "\n",
      "### Group Stage\n",
      "Once the 32 teams qualified, they were divided into eight groups of four. The group stage consisted of a round-robin format where each team played every other team in their group once. Points were awarded as follows: three points for a win, one point for a draw, and none for a loss. The top two teams from each group, based on points, advanced to the knockout stage, adding an element of intensity and urgency to each match, given the stakes involved.\n",
      "\n",
      "### Knockout Stage\n",
      "The knockout stage began with the Round of 16, where the top two teams from each group faced off in single-elimination matches. The winners of these matches moved on to the quarter-finals, then the semi-finals, and ultimately the final match to determine the champion. This stage provided thrilling moments and dramatic upsets, culminating in Brazil's victory over Germany in the final, securing their fifth title and solidifying their status as one of football's greatest nations.\n",
      "\n",
      "## Key Matches\n",
      "\n",
      "### Group Stage Highlights\n",
      "The group stage of the 2002 FIFA World Cup was filled with unexpected results and standout performances. Noteworthy matches included the stunning clash between Senegal and France, where the debuting Senegalese team shocked the reigning champions with a 1-0 victory. Brazil also showcased their prowess, defeating Turkey 2-1, while South Korea delighted home fans with a thrilling 2-0 win against Poland, marking a historic start for the host nation.\n",
      "\n",
      "### Quarterfinals\n",
      "The quarterfinals delivered high tension and drama, with matches that kept fans on the edge of their seats. Brazil faced Belgium in a high-scoring affair, where Ronaldo's double helped secure a 2-0 victory, reaffirming his status as a key player in the tournament. Meanwhile, the dramatic encounter between South Korea and Spain concluded in a controversial penalty shootout, with South Korea emerging victorious after a 0-0 draw, advancing to the semifinals in a historic run.\n",
      "\n",
      "### Semifinals\n",
      "In the semifinals, Brazil showcased their dominance against Turkey, defeating them 1-0 thanks to a phenomenal goal from Ronaldo. The other semifinal match saw South Korea face Germany, where a 1-0 victory for Germany ended South Korea's remarkable fairy tale run. The match was marked by contentious officiating and served as a defining moment for both teams.\n",
      "\n",
      "### Final\n",
      "The final, held on June 30, 2002, at the International Stadium Yokohama, featured Brazil against Germany. In a clash of titans, Brazil emerged victorious with a 2-0 scoreline, thanks to two brilliant goals by Ronaldo. This win not only solidified Brazil's legacy in football history, claiming their fifth World Cup title, but also marked a triumphant comeback for Ronaldo, who had faced significant challenges prior to the tournament.\n",
      "\n",
      "## Notable Players\n",
      "\n",
      "### Top Scorers\n",
      "The 2002 FIFA World Cup was defined by its remarkable goal scorers. Ronaldo Nazário of Brazil led the tournament with an impressive eight goals, cementing his status as one of the greatest forwards in football history. His performance not only helped Brazil secure its fifth World Cup title but also showcased his incredible comeback from injury. Other notable scorers included Rivaldo, also from Brazil, who netted five goals, and Miroslav Klose from Germany, who scored five times, playing a pivotal role in his team's journey to the semi-finals. \n",
      "\n",
      "### Emerging Talents\n",
      "The 2002 World Cup also introduced the world to a number of young stars. One standout was the South Korean forward Park Ji-sung, who played crucial roles in leading his national team to an unprecedented fourth-place finish. His tireless work ethic and skill on the ball captivated audiences and marked the beginning of a successful international career. Another emerging talent was the Spanish playmaker Xavi Hernandez, who, although young, demonstrated an exceptional understanding of the game and the ability to orchestrate play from midfield, foreshadowing his future as a key player for both club and country.\n",
      "\n",
      "### Veteran Performers\n",
      "Among the notable veterans, players like Roberto Carlos and Cafu of Brazil showcased remarkable skill and leadership throughout the tournament. Their experience on the field contributed significantly to Brazil's defensive and offensive strategies. Meanwhile, France's Lilian Thuram provided a strong presence in defense, helping his team in crucial moments despite the team’s early exit. These seasoned players not only influenced their teams’ performances but also left a lasting legacy within the tournament's history.\n",
      "\n",
      "## Impact and Legacy\n",
      "\n",
      "### Global Football Influence\n",
      "The 2002 FIFA World Cup was monumental in expanding the appeal of football beyond its traditional strongholds. The tournament witnessed the emergence of new footballing nations on the global stage, particularly with South Korea's unprecedented run to the semi-finals, which captivated audiences worldwide. This surge in competitiveness highlighted the increasing parity in football, inspiring lesser-known nations to invest in their football programs. The tournament also ignited interest in football throughout Asia, leading to a broader uptake of the sport across the continent.\n",
      "\n",
      "### Technological Innovations\n",
      "The 2002 World Cup was notable for several technological advancements that enhanced both the viewing experience and the performance of the teams. This was the first World Cup to be broadcast in high definition, allowing fans to enjoy matches with unprecedented clarity and detail. Additionally, the use of VAR (Video Assistant Referee) was explored for the first time, although not in its current form. The integration of technology into the game set a precedent for future tournaments, leading to ongoing innovations in sports broadcasting and officiating.\n",
      "\n",
      "### Economic Impact\n",
      "The economic implications of hosting the World Cup were significant for both South Korea and Japan. The tournament generated billions of dollars in revenue from tourism, merchandise sales, and global broadcasting rights. Infrastructure investments, including stadium upgrades and transportation improvements, left a lasting heritage that benefited local communities long after the final whistle. The economic boost provided a platform for both nations to further develop their international profiles, showcasing their capabilities to host major events and fostering a spirit of cooperation in the region.\n",
      "\n",
      "## Cultural Significance\n",
      "\n",
      "### Fandom and Fan Culture\n",
      "The 2002 FIFA World Cup ignited an unparalleled wave of enthusiasm among fans worldwide, especially in the host nations. Soccer fans embraced their countries' participation with fervor, transforming local streets into vibrant displays of national pride. The tournament saw a remarkable rise in the phenomenon of fan culture, characterized by elaborate celebrations, rituals, and a sense of community that brought people together beyond borders. Events such as watch parties, fan zones, and the wearing of team colors became a collective expression of support that highlighted the emotional connection people have to the game.\n",
      "\n",
      "### Political Implications\n",
      "The 2002 World Cup had profound political implications, especially for South Korea, a nation undergoing significant transitions in its democratic landscape. The tournament served as a platform for showcasing national unity and pride, reinforcing South Korea's identity on the global stage. The success of the national team, which made an unexpected run to the semifinals, was perceived as a reflection of the country's emerging confidence and a symbol of hope for its citizens. Additionally, the event prompted discussions about sports diplomacy and the role of international sporting events in fostering peaceful relations between countries.\n",
      "\n",
      "### Media Coverage\n",
      "The media coverage of the 2002 FIFA World Cup was extensive and groundbreaking, with unprecedented global reach and engagement. Advances in technology allowed fans from around the world to follow the tournament live, creating a shared experience among millions. The event was noted for its innovative broadcasting techniques, including high-definition coverage and interactive viewing options, which enhanced viewer engagement. Media narratives focused not only on the matches themselves but also on the cultural exchanges and stories surrounding the host nations, thus enriching the event's significance and highlighting football's power as a unifying force in an increasingly globalized world.\n",
      "\n"
     ]
    }
   ],
   "source": [
    "class Outline(dspy.Signature):\n",
    "    \"\"\"Outline a thorough overview of a topic.\"\"\"\n",
    "\n",
    "    topic: str = dspy.InputField()\n",
    "    title: str = dspy.OutputField()\n",
    "    sections: list[str] = dspy.OutputField()\n",
    "    section_subheadings: dict[str, list[str]] = dspy.OutputField(desc=\"mapping from section headings to subheadings\")\n",
    "\n",
    "class DraftSection(dspy.Signature):\n",
    "    \"\"\"Draft a top-level section of an article.\"\"\"\n",
    "\n",
    "    topic: str = dspy.InputField()\n",
    "    section_heading: str = dspy.InputField()\n",
    "    section_subheadings: list[str] = dspy.InputField()\n",
    "    content: str = dspy.OutputField(desc=\"markdown-formatted section\")\n",
    "\n",
    "class DraftArticle(dspy.Module):\n",
    "    def __init__(self):\n",
    "        self.build_outline = dspy.ChainOfThought(Outline)\n",
    "        self.draft_section = dspy.ChainOfThought(DraftSection)\n",
    "\n",
    "    def forward(self, topic):\n",
    "        outline = self.build_outline(topic=topic)\n",
    "        sections = []\n",
    "        for heading, subheadings in outline.section_subheadings.items():\n",
    "            section, subheadings = f\"## {heading}\", [f\"### {subheading}\" for subheading in subheadings]\n",
    "            section = self.draft_section(topic=outline.title, section_heading=section, section_subheadings=subheadings)\n",
    "            sections.append(section.content)\n",
    "        return dspy.Prediction(title=outline.title, sections=sections)\n",
    "\n",
    "draft_article = DraftArticle()\n",
    "article = draft_article(topic=\"World Cup 2002\")\n",
    "\n",
    "print(f\"# {article.title}\\n\")\n",
    "for section in article.sections:\n",
    "    print(f\"{section}\\n\")"
   ]
  }
 ],
 "metadata": {
  "kernelspec": {
   "display_name": ".venv",
   "language": "python",
   "name": "python3"
  },
  "language_info": {
   "codemirror_mode": {
    "name": "ipython",
    "version": 3
   },
   "file_extension": ".py",
   "mimetype": "text/x-python",
   "name": "python",
   "nbconvert_exporter": "python",
   "pygments_lexer": "ipython3",
   "version": "3.12.8"
  }
 },
 "nbformat": 4,
 "nbformat_minor": 2
}
