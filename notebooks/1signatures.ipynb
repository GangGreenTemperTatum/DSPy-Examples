{
 "cells": [
  {
   "cell_type": "markdown",
   "metadata": {},
   "source": [
    "# dspy methodology 101\n",
    "\n",
    "1. programming\n",
    "   1. LMs (tasks)\n",
    "   2. signatures (i/o - eg `\"context: list[str], question: str -> answer: str\"`) - compiling leads to better prompts than humans write\n",
    "      1. tasks, instruct the model what it needs to do\n",
    "      2. underlying dSPY compiler will do the optimization, rather than brittle prompts\n",
    "   3. modules (ie `dspy.Predict`, `dspy.ChainOfThought`)\n",
    "      1. prompting techniques\n",
    "2. evaluation\n",
    "3. optimization"
   ]
  },
  {
   "cell_type": "markdown",
   "metadata": {},
   "source": [
    "## TOC:\n",
    "* [intro](#dspy-methodology-101)\n",
    "* [LMs](#set-a-generator-lm)\n",
    "* [signatures](#testing-with-dspy-signatures)\n",
    "* [class-based signatures](#class-based-dspy-signatures)"
   ]
  },
  {
   "cell_type": "markdown",
   "metadata": {},
   "source": [
    "## set a generator LM\n",
    "\n",
    "<a class=\"anchor\" id=\"LM\"></a>"
   ]
  },
  {
   "cell_type": "code",
   "execution_count": 1,
   "metadata": {},
   "outputs": [
    {
     "name": "stdout",
     "output_type": "stream",
     "text": [
      "OPENAI API Key found!\n",
      "ANTHROPIC API Key found!\n"
     ]
    }
   ],
   "source": [
    "import dspy\n",
    "import os\n",
    "\n",
    "OPENAI_API_KEY = os.getenv(\"OPENAI_API_KEY\")\n",
    "ANTHROPIC_API_KEY = os.getenv(\"ANTHROPIC_API_KEY\")\n",
    "TOGETHER_API_KEY = os.getenv(\"TOGETHER_API_KEY\")\n",
    "\n",
    "if OPENAI_API_KEY:\n",
    "    print(\"OPENAI API Key found!\")\n",
    "else:\n",
    "    print(\"OPENAI API Key not found!\")\n",
    "if ANTHROPIC_API_KEY:\n",
    "    print(\"ANTHROPIC API Key found!\")\n",
    "else:\n",
    "    print(\"ANTHROPIC API Key not found!\")\n",
    "\n",
    "lm = dspy.LM('openai/gpt-4o-mini', temperature=0.9, max_tokens=3000, stop=None, cache=False, api_key=OPENAI_API_KEY)\n",
    "dspy.configure(lm=lm)"
   ]
  },
  {
   "cell_type": "markdown",
   "metadata": {},
   "source": [
    "## testing with dspy signatures\n",
    "\n",
    "- A signature is a declarative specification of input/output behavior of a DSPy module. Signatures allow you to tell the LM what it needs to do, rather than specify how we should ask the LM to do it.\n",
    "- underlying dSPY compiler will do the optimization (`optuna`), rather than brittle prompts\n",
    "- argument names and types to a module"
   ]
  },
  {
   "cell_type": "code",
   "execution_count": 12,
   "metadata": {},
   "outputs": [
    {
     "name": "stdout",
     "output_type": "stream",
     "text": [
      "True\n"
     ]
    }
   ],
   "source": [
    "with dspy.context(lm=dspy.LM('together_ai/deepseek-ai/DeepSeek-R1', temperature=0.1, max_tokens=2500, stop=None, cache=False, api_key=TOGETHER_API_KEY)):\n",
    "    sentence = \"it's a charming and often affecting journey.\"\n",
    "    classify = dspy.Predict('sentence -> sentiment: bool')\n",
    "    classify(sentence=sentence).sentiment\n",
    "print(classify(sentence=sentence).sentiment)"
   ]
  },
  {
   "cell_type": "code",
   "execution_count": 15,
   "metadata": {},
   "outputs": [
    {
     "name": "stdout",
     "output_type": "stream",
     "text": [
      "A 21-year-old football player made seven appearances for the Hammers, scoring once in a Europa League match. He spent last season on loan at Blackpool and Colchester United, where he scored two goals but could not prevent Colchester from relegation. The details of his new contract with the promoted Tykes are not disclosed.\n",
      "\n",
      "Reasoning: The document discusses a young football player who has had a brief career with the Hammers and mentions his experiences during loan spells. It highlights his performance, including his goal-scoring and the challenges he faced with relegation. The mention of his new contract with the Tykes adds a current aspect to his career trajectory. Overall, the emphasis is on his recent activities and transitions in professional football.\n"
     ]
    }
   ],
   "source": [
    "document = \"\"\"The 21-year-old made seven appearances for the Hammers and netted his only goal for them in a Europa League qualification round match against Andorran side FC Lustrains last season. Lee had two loan spells in League One last term, with Blackpool and then Colchester United. He scored twice for the U's but was unable to save them from relegation. The length of Lee's contract with the promoted Tykes has not been revealed. Find all the latest football transfers on our dedicated page.\"\"\"\n",
    "\n",
    "summarize = dspy.ChainOfThought('document -> summary')\n",
    "response = summarize(document=document)\n",
    "\n",
    "print(response.summary)\n",
    "print(\"\\nReasoning:\", response.reasoning)"
   ]
  },
  {
   "cell_type": "code",
   "execution_count": 20,
   "metadata": {},
   "outputs": [
    {
     "name": "stdout",
     "output_type": "stream",
     "text": [
      "fear\n"
     ]
    },
    {
     "data": {
      "text/plain": [
       "Prediction(\n",
       "    sentiment='fear'\n",
       ")"
      ]
     },
     "execution_count": 20,
     "metadata": {},
     "output_type": "execute_result"
    }
   ],
   "source": [
    "from typing import Literal\n",
    "\n",
    "class Emotion(dspy.Signature):\n",
    "    \"\"\"Classify emotion.\"\"\"\n",
    "\n",
    "    sentence: str = dspy.InputField()\n",
    "    sentiment: Literal['sadness', 'joy', 'love', 'anger', 'fear', 'surprise'] = dspy.OutputField()\n",
    "\n",
    "sentence = \"i started feeling a little vulnerable when the giant spotlight started blinding me\"\n",
    "\n",
    "print(classify(sentence=sentence).sentiment)\n",
    "\n",
    "classify = dspy.Predict(Emotion)\n",
    "classify(sentence=sentence)"
   ]
  },
  {
   "cell_type": "code",
   "execution_count": 22,
   "metadata": {},
   "outputs": [
    {
     "name": "stdout",
     "output_type": "stream",
     "text": [
      "Prediction(\n",
      "    reasoning='The text claims that Lee scored 3 goals for Colchester United, but the context only mentions him scoring twice for them. This inconsistency suggests that the information may not be entirely accurate.',\n",
      "    faithfulness=False,\n",
      "    evidence={'additionalProperties': [], 'type': ['context', 'text']}\n",
      ")\n"
     ]
    }
   ],
   "source": [
    "with dspy.context(lm = dspy.LM('ollama_chat/llama3.2', temperature=0.9, max_tokens=3000, stop=None, cache=False, api_base='http://localhost:11434', api_key='')):\n",
    "    class CheckCitationFaithfulness(dspy.Signature):\n",
    "        \"\"\"Verify that the text is based on the provided context.\"\"\"\n",
    "\n",
    "        context: str = dspy.InputField(desc=\"facts here are assumed to be true\")\n",
    "        text: str = dspy.InputField()\n",
    "        faithfulness: bool = dspy.OutputField()\n",
    "        evidence: dict[str, list[str]] = dspy.OutputField(desc=\"Supporting evidence for claims\")\n",
    "\n",
    "    context = \"The 21-year-old made seven appearances for the Hammers and netted his only goal for them in a Europa League qualification round match against Andorran side FC Lustrains last season. Lee had two loan spells in League One last term, with Blackpool and then Colchester United. He scored twice for the U's but was unable to save them from relegation. The length of Lee's contract with the promoted Tykes has not been revealed. Find all the latest football transfers on our dedicated page.\"\n",
    "\n",
    "    text = \"Lee scored 3 goals for Colchester United.\"\n",
    "\n",
    "    faithfulness = dspy.ChainOfThought(CheckCitationFaithfulness)\n",
    "    result = faithfulness(context=context, text=text)\n",
    "    print(result)"
   ]
  },
  {
   "cell_type": "markdown",
   "metadata": {},
   "source": [
    "### Class-based DSPy Signatures\n",
    "\n",
    "- more advanced (verbose clarification as a docstring, hints and constraints)"
   ]
  },
  {
   "cell_type": "code",
   "execution_count": 26,
   "metadata": {},
   "outputs": [
    {
     "name": "stdout",
     "output_type": "stream",
     "text": [
      "Predict(Emotion(sentence -> sentiment\n",
      "    instructions='Classify emotion.'\n",
      "    sentence = Field(annotation=str required=True json_schema_extra={'__dspy_field_type': 'input', 'prefix': 'Sentence:', 'desc': '${sentence}'})\n",
      "    sentiment = Field(annotation=Literal['sadness', 'joy', 'love', 'anger', 'fear', 'surprise'] required=True json_schema_extra={'__dspy_field_type': 'output', 'prefix': 'Sentiment:', 'desc': '${sentiment}'})\n",
      "))\n"
     ]
    }
   ],
   "source": [
    "from typing import Literal\n",
    "\n",
    "class Emotion(dspy.Signature):\n",
    "    \"\"\"Classify emotion.\"\"\"\n",
    "\n",
    "    sentence: str = dspy.InputField()\n",
    "    sentiment: Literal['sadness', 'joy', 'love', 'anger', 'fear', 'surprise'] = dspy.OutputField()\n",
    "\n",
    "sentence = \"i started feeling a little vulnerable when the giant spotlight started blinding me\"  # from dair-ai/emotion\n",
    "\n",
    "classify = dspy.Predict(Emotion)\n",
    "classify(sentence=sentence)\n",
    "print(classify)"
   ]
  },
  {
   "cell_type": "code",
   "execution_count": 28,
   "metadata": {},
   "outputs": [
    {
     "name": "stdout",
     "output_type": "stream",
     "text": [
      "predict = Predict(StringSignature(context, text -> reasoning, faithfulness, evidence\n",
      "    instructions='Verify that the text is based on the provided context.'\n",
      "    context = Field(annotation=str required=True json_schema_extra={'desc': 'facts here are assumed to be true', '__dspy_field_type': 'input', 'prefix': 'Context:'})\n",
      "    text = Field(annotation=str required=True json_schema_extra={'__dspy_field_type': 'input', 'prefix': 'Text:', 'desc': '${text}'})\n",
      "    reasoning = Field(annotation=str required=True json_schema_extra={'prefix': \"Reasoning: Let's think step by step in order to\", 'desc': '${reasoning}', '__dspy_field_type': 'output'})\n",
      "    faithfulness = Field(annotation=bool required=True json_schema_extra={'__dspy_field_type': 'output', 'prefix': 'Faithfulness:', 'desc': '${faithfulness}'})\n",
      "    evidence = Field(annotation=dict[str, list[str]] required=True json_schema_extra={'desc': 'Supporting evidence for claims', '__dspy_field_type': 'output', 'prefix': 'Evidence:'})\n",
      "))\n"
     ]
    }
   ],
   "source": [
    "class CheckCitationFaithfulness(dspy.Signature):\n",
    "    \"\"\"Verify that the text is based on the provided context.\"\"\"\n",
    "\n",
    "    context: str = dspy.InputField(desc=\"facts here are assumed to be true\")\n",
    "    text: str = dspy.InputField()\n",
    "    faithfulness: bool = dspy.OutputField()\n",
    "    evidence: dict[str, list[str]] = dspy.OutputField(desc=\"Supporting evidence for claims\")\n",
    "\n",
    "context = \"The 21-year-old made seven appearances for the Hammers and netted his only goal for them in a Europa League qualification round match against Andorran side FC Lustrains last season. Lee had two loan spells in League One last term, with Blackpool and then Colchester United. He scored twice for the U's but was unable to save them from relegation. The length of Lee's contract with the promoted Tykes has not been revealed. Find all the latest football transfers on our dedicated page.\"\n",
    "\n",
    "text = \"Lee scored 3 goals for Colchester United.\"\n",
    "\n",
    "faithfulness = dspy.ChainOfThought(CheckCitationFaithfulness)\n",
    "faithfulness(context=context, text=text)\n",
    "print(faithfulness)"
   ]
  },
  {
   "cell_type": "code",
   "execution_count": 31,
   "metadata": {},
   "outputs": [
    {
     "data": {
      "text/plain": [
       "Prediction(\n",
       "    answer='Labrador Retriever'\n",
       ")"
      ]
     },
     "execution_count": 31,
     "metadata": {},
     "output_type": "execute_result"
    }
   ],
   "source": [
    "class DogPictureSignature(dspy.Signature):\n",
    "    \"\"\"Output the dog breed of the dog in the image.\"\"\"\n",
    "    image_1: dspy.Image = dspy.InputField(desc=\"An image of a dog\")\n",
    "    answer: str = dspy.OutputField(desc=\"The dog breed of the dog in the image\")\n",
    "\n",
    "image_url = \"https://picsum.photos/id/237/200/300\"\n",
    "classify = dspy.Predict(DogPictureSignature)\n",
    "classify(image_1=dspy.Image.from_url(image_url))\n"
   ]
  },
  {
   "cell_type": "markdown",
   "metadata": {},
   "source": [
    "--> multiple signatures into bigger DSPy [modules](./2modules.ipynb)"
   ]
  }
 ],
 "metadata": {
  "kernelspec": {
   "display_name": ".venv",
   "language": "python",
   "name": "python3"
  },
  "language_info": {
   "codemirror_mode": {
    "name": "ipython",
    "version": 3
   },
   "file_extension": ".py",
   "mimetype": "text/x-python",
   "name": "python",
   "nbconvert_exporter": "python",
   "pygments_lexer": "ipython3",
   "version": "3.12.8"
  }
 },
 "nbformat": 4,
 "nbformat_minor": 2
}
